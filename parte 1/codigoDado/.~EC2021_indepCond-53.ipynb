{
 "cells": [
  {
   "cell_type": "markdown",
   "metadata": {},
   "source": [
    "## Imports"
   ]
  },
  {
   "cell_type": "code",
   "execution_count": 37,
   "metadata": {},
   "outputs": [],
   "source": [
    "from prettytable import *\n",
    "from utils import *\n",
    "from utils import *\n",
    "from probabilityPlus import *\n",
    "from itertools import *"
   ]
  },
  {
   "cell_type": "markdown",
   "metadata": {},
   "source": [
    "## Função cond_indep"
   ]
  },
  {
   "cell_type": "markdown",
   "metadata": {},
   "source": [
    "### Explicação\n",
    "\n",
    "cond_indep começa por chamar a função todosCaminhos que devolva todos os caminhos possiveis entre x e y e iniciliza um inativosCaminho que vai guardar em lista em todos os caminhos se há triplos inativos. Percorre um for por cada caminho e cria os triplos do caminho, depois percorre dois fors, um para cada membro da lista e e por cada triplo e se algum membro de e estiver no triplo quer dizer que é inativo. No fim percorre-se a lista inativosCaminho e se houver algum caminho ativo quer dizer que é condicionalmente independente"
   ]
  },
  {
   "cell_type": "code",
   "execution_count": 38,
   "metadata": {},
   "outputs": [],
   "source": [
    "def cond_indep(x,y,e,rede):   \n",
    "    dic=graphToDic(rede)\n",
    "    caminhos=find_all_paths(dic,x,y,[])\n",
    "    inativosCaminho=[]\n",
    "    for i in caminhos:\n",
    "        temInativos=False\n",
    "        if i:\n",
    "            triplos=triplosEmCaminho(i)\n",
    "        for j in e:\n",
    "            for t in triplos:\n",
    "                if j in t:\n",
    "                    temInativos=True\n",
    "        inativosCaminho.append(temInativos)\n",
    "    for i in inativosCaminho:\n",
    "        if i==False:\n",
    "            return False\n",
    "    return True"
   ]
  },
  {
   "cell_type": "markdown",
   "metadata": {},
   "source": [
    "## Função cond_indep_explica"
   ]
  },
  {
   "cell_type": "markdown",
   "metadata": {},
   "source": [
    "### Explicação\n",
    "\n",
    "Começa por chamar a função todosCaminhos que devolve todos os caminhos, ainda inicia duas variáveis, uma para a resposta e outra para os triplos. Depois percorre todos os caminhos e para cada divide em triplos e adiciona à lista triplos. Depois por cada membro da lista triplos chama a função auxiliar checkTriplo que para cada um verifica se é cadeia causal etc... e se é ou não ativo e devolve uma string que é adicionado à lista resposta. Depois percorre a resposta e passa-a para uma string explicacao, depois chama cond_indep e dependendo se é verdadeiro ou falso, adiciona à explicacao e por fim devolve um tuplo com a resposta de cond_indep e com a explicacao"
   ]
  },
  {
   "cell_type": "code",
   "execution_count": 70,
   "metadata": {},
   "outputs": [],
   "source": [
    "def cond_indep_explica(x,y,e,rede):   \n",
    "    dic=graphToDic(rede)\n",
    "    caminhos=find_all_paths(dic,x,y,[])\n",
    "    triplos=[]\n",
    "    resposta=[]\n",
    "    for i in range(0,len(caminhos)):\n",
    "        triplos=triplosEmCaminho(caminhos[i])\n",
    "        for triplo in triplos:\n",
    "            resposta.append((i,checkTriplo(triplo,e,rede)))\n",
    "    explicacao=\"\"\n",
    "    for i in range(0,len(caminhos)):\n",
    "        inicio=0\n",
    "        explicacao=explicacao+ 'No '+str(i+1)+'º caminho, o '\n",
    "        for j in range(0,len(resposta)):\n",
    "            if resposta[j][0]==i:\n",
    "                inicio=inicio+1\n",
    "                explicacao=explicacao+str(inicio)+'º triplo é '+resposta[j][1]+', '\n",
    "    cond=cond_indep(x,y,e,rede)\n",
    "    if cond:\n",
    "        explicacao+='logo é condicionalmente independente, porque todos os caminhos são inativos'\n",
    "    else:       \n",
    "        explicacao+='logo não é condicionalmente independente, porque tem pelo menos um caminho ativo'\n",
    "    return (cond,explicacao)"
   ]
  },
  {
   "cell_type": "markdown",
   "metadata": {},
   "source": [
    "## Função todos_cond_indeps"
   ]
  },
  {
   "cell_type": "markdown",
   "metadata": {},
   "source": [
    "### Explicação\n",
    "\n",
    "todos_cond_indeps começa por passar a rede para uma lista de nodes, percorre essa lista três vezes subtraindo o valor escolhido anteriormente e com os três valores dos fors x,y,z chama cond_indep e se o retorno for verdadeiro adiciona o triplo à lista para retornar"
   ]
  },
  {
   "cell_type": "code",
   "execution_count": 71,
   "metadata": {},
   "outputs": [],
   "source": [
    "def todos_cond_indeps(rede):\n",
    "    var=set(rede.variables)\n",
    "    lista=[]\n",
    "    for x in var:\n",
    "        otherX=var-{x}\n",
    "        for y in otherX:\n",
    "            otherY=otherX-{y}\n",
    "            for z in otherY:\n",
    "                i=cond_indep(x,y,[z],rede)\n",
    "                if i:\n",
    "                    lista.append([x,y,z])\n",
    "    return lista"
   ]
  },
  {
   "cell_type": "markdown",
   "metadata": {},
   "source": [
    "## Funções Auxiliares"
   ]
  },
  {
   "cell_type": "code",
   "execution_count": 72,
   "metadata": {},
   "outputs": [],
   "source": [
    "def find_all_paths(graph, start, end, path=[]):\n",
    "    path = path + [start]\n",
    "    if start == end:\n",
    "        return [path]\n",
    "    if not start in graph:\n",
    "        return []\n",
    "    paths = []\n",
    "    for node in graph[start]:\n",
    "        if node not in path:\n",
    "            newpaths = find_all_paths(graph, node, end, path)\n",
    "            for newpath in newpaths:\n",
    "                paths.append(newpath)\n",
    "    return paths\n",
    "\n",
    "def graphToDic(rede):\n",
    "    var=set(rede.variables)\n",
    "    myDict={}\n",
    "    for v in var:\n",
    "        myDict[v]=rede.variable_node(v).parents+rede.variable_node(v).children\n",
    "    return myDict\n",
    "        \n",
    "def triplosEmCaminho(caminho):\n",
    "    triplos=[]\n",
    "    for i in range(0,len(caminho)):\n",
    "        if i+2>len(caminho)-1:\n",
    "            return triplos\n",
    "        triplos.append((caminho[i],caminho[i+1],caminho[i+2]))\n",
    "        \n",
    "def checkTriplo(triplo,e,rede):\n",
    "    pais1=rede.variable_node(triplo[0]).parents\n",
    "    pais2=rede.variable_node(triplo[1]).parents\n",
    "    pais3=rede.variable_node(triplo[2]).parents\n",
    "    explicacao=\"\"\n",
    "\n",
    "    if triplo[0] in pais2 and triplo[1] in pais3:\n",
    "        explicacao += \"uma cadeia causal \"\n",
    "    if triplo[0] in pais2 and triplo[2] in pais2:\n",
    "        explicacao += \"um efeito comum \"\n",
    "    if triplo[1] in pais1 and triplo[1] in pais3:\n",
    "        explicacao += \"uma causa comum \"\n",
    "    for i in e:\n",
    "        if i in triplo:\n",
    "            return explicacao + \"inativo\"\n",
    "    return explicacao + \"ativo\"\n",
    "    "
   ]
  },
  {
   "cell_type": "markdown",
   "metadata": {},
   "source": [
    "### todosCaminhos\n",
    "\n",
    "Recebendo um node x e node y e uma rede retorna todos os caminhos possíveis de x a y na rede, utilizando uma função auxiliar caminhosAux\n",
    "\n",
    "### triplosEmCaminho\n",
    "\n",
    "Recebendo um caminho que é uma lista de nodes retorna uma lista com os triplos do caminho\n",
    "\n",
    "\n",
    "### CheckTriplo\n",
    "\n",
    "Recebendo um triplo, uma lista de nodes e uma rede verifica de que tipo é o triplo e se é ativo ou inativo dado a lista de nodes"
   ]
  },
  {
   "cell_type": "markdown",
   "metadata": {},
   "source": [
    "## Testes"
   ]
  },
  {
   "cell_type": "markdown",
   "metadata": {},
   "source": [
    "Vamos testar para o caso da rede de Bayes Burglary."
   ]
  },
  {
   "cell_type": "code",
   "execution_count": 73,
   "metadata": {},
   "outputs": [],
   "source": [
    "T, F = True, False\n",
    "burglary = BayesNet([\n",
    "    ('Burglary', '', 0.001),\n",
    "    ('Earthquake', '', 0.002),\n",
    "    ('Alarm', 'Burglary Earthquake',\n",
    "     {(T, T): 0.95, (T, F): 0.94, (F, T): 0.29, (F, F): 0.001}),\n",
    "    ('JohnCalls', 'Alarm', {T: 0.90, F: 0.05}),\n",
    "    ('MaryCalls', 'Alarm', {T: 0.70, F: 0.01})\n",
    "    ])"
   ]
  },
  {
   "cell_type": "markdown",
   "metadata": {},
   "source": [
    "Agora vamos testar para ver se Burglary e Alarm são condicionalmente independentes dado Earthquake..."
   ]
  },
  {
   "cell_type": "code",
   "execution_count": 74,
   "metadata": {},
   "outputs": [
    {
     "name": "stdout",
     "output_type": "stream",
     "text": [
      "(False, 'No 1º caminho, o logo não é condicionalmente independente, porque tem pelo menos um caminho ativo')\n"
     ]
    }
   ],
   "source": [
    "X = 'Burglary'\n",
    "Y = 'Alarm'\n",
    "E = 'Earthquake'\n",
    "\n",
    "print(cond_indep_explica(X, Y, E, burglary))"
   ]
  },
  {
   "cell_type": "markdown",
   "metadata": {},
   "source": [
    "Agora vamos ver se JohnCalls é condicionalmente independente de Alarm dado Earthquake..."
   ]
  },
  {
   "cell_type": "code",
   "execution_count": 75,
   "metadata": {},
   "outputs": [
    {
     "name": "stdout",
     "output_type": "stream",
     "text": [
      "(False, 'No 1º caminho, o logo não é condicionalmente independente, porque tem pelo menos um caminho ativo')\n"
     ]
    }
   ],
   "source": [
    "X = 'JohnCalls'\n",
    "Y = 'Alarm'\n",
    "E = 'Earthquake'\n",
    "\n",
    "print(cond_indep_explica(X, Y, E, burglary))"
   ]
  },
  {
   "cell_type": "markdown",
   "metadata": {},
   "source": [
    "### Caso do exemplo no enunciado"
   ]
  },
  {
   "cell_type": "code",
   "execution_count": 76,
   "metadata": {},
   "outputs": [
    {
     "name": "stdout",
     "output_type": "stream",
     "text": [
      "BayesNet([('A', ''), ('B', 'A'), ('D', 'A'), ('C', 'B'), ('E', 'B D')])\n",
      "Aceder ao no na posicao 2:\n",
      "('D', 'A')\n",
      "\n",
      "Aceder ao nome do no na posicao 2:\n",
      "D\n",
      "\n",
      "Aceder ao numero de nos da rede\n",
      "5\n",
      "\n",
      "Aceder aos nomes dos filhos da posicao 2:\n",
      "['E']\n"
     ]
    }
   ],
   "source": [
    "grafo=BayesNet([\n",
    "    ('A', '', 0.5),\n",
    "    ('B', 'A', {T: 0.90, F: 0.05}),\n",
    "    ('D', 'A', {T: 0.90, F: 0.05}),\n",
    "    ('C', 'B', {T: 0.90, F: 0.05}),\n",
    "    ('E', 'B D', {(T, T): 0.95, (T, F): 0.94, (F, T): 0.29, (F, F): 0.001}),\n",
    "    ])\n",
    "\n",
    "print(grafo)\n",
    "\n",
    "R = grafo\n",
    "\n",
    "print(\"Aceder ao no na posicao 2:\")\n",
    "print(R.nodes[2])\n",
    "\n",
    "print(\"\\nAceder ao nome do no na posicao 2:\")\n",
    "print(R.variables[2])\n",
    "\n",
    "print(\"\\nAceder ao numero de nos da rede\")\n",
    "print(len(R.nodes))\n",
    "\n",
    "print(\"\\nAceder aos nomes dos filhos da posicao 2:\")\n",
    "print(R.nodes[2].children)\n"
   ]
  },
  {
   "cell_type": "markdown",
   "metadata": {},
   "source": [
    "Vamos ver se A e C são condicionalmente independente dado B"
   ]
  },
  {
   "cell_type": "code",
   "execution_count": 77,
   "metadata": {},
   "outputs": [
    {
     "name": "stdout",
     "output_type": "stream",
     "text": [
      "True\n"
     ]
    }
   ],
   "source": [
    "print(cond_indep('A', 'C', 'B', grafo))"
   ]
  },
  {
   "cell_type": "markdown",
   "metadata": {},
   "source": [
    "Vamos ver se A e C são condicionalmente independente dado E"
   ]
  },
  {
   "cell_type": "code",
   "execution_count": 78,
   "metadata": {},
   "outputs": [
    {
     "name": "stdout",
     "output_type": "stream",
     "text": [
      "False\n"
     ]
    }
   ],
   "source": [
    "print(cond_indep('A', 'C', 'E', grafo))"
   ]
  },
  {
   "cell_type": "markdown",
   "metadata": {},
   "source": [
    "Vamos então agora explicar os dois exemplos"
   ]
  },
  {
   "cell_type": "code",
   "execution_count": 79,
   "metadata": {},
   "outputs": [
    {
     "name": "stdout",
     "output_type": "stream",
     "text": [
      "(True, 'No 1º caminho, o 1º triplo é uma cadeia causal inativo, No 2º caminho, o 1º triplo é uma cadeia causal ativo, 2º triplo é um efeito comum inativo, 3º triplo é uma causa comum inativo, logo é condicionalmente independente, porque todos os caminhos são inativos')\n",
      "(False, 'No 1º caminho, o 1º triplo é uma cadeia causal ativo, No 2º caminho, o 1º triplo é uma cadeia causal inativo, 2º triplo é um efeito comum inativo, 3º triplo é uma causa comum inativo, logo não é condicionalmente independente, porque tem pelo menos um caminho ativo')\n"
     ]
    }
   ],
   "source": [
    "print(cond_indep_explica('A', 'C', 'B', grafo))\n",
    "print(cond_indep_explica('A', 'C', 'E', grafo))"
   ]
  },
  {
   "cell_type": "markdown",
   "metadata": {},
   "source": [
    "Agora vamos ver todos os triplos distintos  (𝑋,𝑌,𝐸)  tais que se verifica que  𝑋  é condicionalmente independente de  𝑌  dado  𝐸  na rede  𝑅 ."
   ]
  },
  {
   "cell_type": "code",
   "execution_count": 49,
   "metadata": {},
   "outputs": [
    {
     "name": "stdout",
     "output_type": "stream",
     "text": [
      "[['A', 'C', 'B'], ['D', 'C', 'B'], ['E', 'C', 'B'], ['C', 'D', 'B'], ['C', 'A', 'B'], ['C', 'E', 'B']]\n"
     ]
    }
   ],
   "source": [
    "print(todos_cond_indeps(grafo))"
   ]
  },
  {
   "cell_type": "markdown",
   "metadata": {},
   "source": [
    "# IMPORTANTE - a não esquecer"
   ]
  },
  {
   "cell_type": "markdown",
   "metadata": {},
   "source": [
    "Um triplo (No1, No2, No3) é considerado como sendo do tipo cadeia-causal sempre que, na rede em causa, os 3 nós estão ligados por arcos com a mesma direção.\n",
    "Isto é, tanto podemos ter No1 -> No2 ->No3 como No1 <- No2 <- No3.\n",
    "\n",
    "\n",
    "Na verdade, para determinarmos o tipo de um triplo só precisamos de olhar  para a direção dos seus dois arcos.\n",
    "Por isso só há mesmo 3 tipos de triplos:\n",
    "- cadeia-causal: arcos na mesma direção \n",
    "- causa-comum: arcos em direções opostas, divergindo a partir do nó do meio \n",
    "- efeito-comum: arcos em direções opostas, convergindo para o nó do meio\n",
    "\n",
    "Portanto, qualquer que seja o triplo (No1,No2,No3), o triplo inverso (No3,No2,No1) é sempre do mesmo tipo."
   ]
  },
  {
   "cell_type": "markdown",
   "metadata": {},
   "source": [
    "### ---------------------"
   ]
  },
  {
   "cell_type": "markdown",
   "metadata": {},
   "source": [
    "O conjunto de nós E pode ser representado em Python de diferentes formas:\n",
    "- uma lista sem elementos repetidos (em que a ordem dos elementos não é relevante)\n",
    "- um conjunto\n",
    "- Uma string contendo os nomes das variáveis separadas por espaços\n",
    "\n",
    "Podem escolher a representação interna que quiserem e desenvolver a função tendo em conta essa representação. \n",
    "Idealmente poderão depois estender a função de modo a que aceite esse parâmetro dado sob qualquer dessas formas (tal como, por exemplo em probabilityPlus.py o construtor de um BayesNode permite que os pais de um nó sejam indicados de diferentes formas).\n",
    "\n",
    "A representação escolhida/permitida para os parâmetros deve ser indicada no relatório."
   ]
  },
  {
   "cell_type": "markdown",
   "metadata": {},
   "source": [
    "### ---------------------"
   ]
  },
  {
   "cell_type": "markdown",
   "metadata": {},
   "source": [
    "Será que tem de ser acrescentar na funcao cond_indep_explica quando Por exemplo:\n",
    "\n",
    "- X é descendente de Y & Y é descendente de X & E contem X ????\n",
    "\n",
    "Perguntar aos docentes ????"
   ]
  },
  {
   "cell_type": "code",
   "execution_count": null,
   "metadata": {},
   "outputs": [],
   "source": []
  },
  {
   "cell_type": "code",
   "execution_count": null,
   "metadata": {},
   "outputs": [],
   "source": []
  },
  {
   "cell_type": "code",
   "execution_count": null,
   "metadata": {},
   "outputs": [],
   "source": []
  }
 ],
 "metadata": {
  "kernelspec": {
   "display_name": "Python 3",
   "language": "python",
   "name": "python3"
  },
  "language_info": {
   "codemirror_mode": {
    "name": "ipython",
    "version": 3
   },
   "file_extension": ".py",
   "mimetype": "text/x-python",
   "name": "python",
   "nbconvert_exporter": "python",
   "pygments_lexer": "ipython3",
   "version": "3.8.5"
  }
 },
 "nbformat": 4,
 "nbformat_minor": 4
}
