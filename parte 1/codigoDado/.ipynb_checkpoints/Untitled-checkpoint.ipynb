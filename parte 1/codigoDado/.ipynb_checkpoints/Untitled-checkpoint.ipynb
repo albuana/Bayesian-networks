{
 "cells": [
  {
   "cell_type": "code",
   "execution_count": 248,
   "metadata": {},
   "outputs": [],
   "source": [
    "\n",
    "from probabilityPlus import *\n",
    "from prettytable import *\n",
    "from agents import *\n",
    "from ipythonblocks import *\n",
    "from utils import *"
   ]
  },
  {
   "cell_type": "code",
   "execution_count": 267,
   "metadata": {},
   "outputs": [],
   "source": [
    "T, F = True, False\n",
    "burglary = BayesNet([\n",
    "    ('Burglary', '', 0.001),\n",
    "    ('Earthquake', '', 0.002),\n",
    "    ('Alarm', 'Burglary Earthquake',\n",
    "     {(T, T): 0.95, (T, F): 0.94, (F, T): 0.29, (F, F): 0.001}),\n",
    "    ('JohnCalls', 'Alarm', {T: 0.90, F: 0.05}),\n",
    "    ('MaryCalls', 'Alarm', {T: 0.70, F: 0.01})\n",
    "    ])\n",
    "evidencias = BayesNet([('Burglary', 'q', 0.001)])"
   ]
  },
  {
   "cell_type": "code",
   "execution_count": 268,
   "metadata": {},
   "outputs": [
    {
     "data": {
      "text/plain": [
       "probabilityPlus.BayesNode"
      ]
     },
     "execution_count": 268,
     "metadata": {},
     "output_type": "execute_result"
    }
   ],
   "source": [
    "type(burglary.variable_node('Burglary'))"
   ]
  },
  {
   "cell_type": "code",
   "execution_count": 269,
   "metadata": {},
   "outputs": [
    {
     "name": "stdout",
     "output_type": "stream",
     "text": [
      "Pais de Burglary: \n"
     ]
    },
    {
     "data": {
      "text/plain": [
       "{(): 0.001}"
      ]
     },
     "execution_count": 269,
     "metadata": {},
     "output_type": "execute_result"
    }
   ],
   "source": [
    "print(\"Pais de Burglary:\",\" \".join(burglary.variable_node('Burglary').parents)) \n",
    "burglary.variable_node('Burglary').cpt"
   ]
  },
  {
   "cell_type": "code",
   "execution_count": 270,
   "metadata": {},
   "outputs": [
    {
     "name": "stdout",
     "output_type": "stream",
     "text": [
      "Filhos de Burglary: Alarm\n"
     ]
    }
   ],
   "source": [
    "print(\"Filhos de Burglary:\",\" \".join(burglary.variable_node('Burglary').children))"
   ]
  },
  {
   "cell_type": "code",
   "execution_count": 271,
   "metadata": {},
   "outputs": [
    {
     "name": "stdout",
     "output_type": "stream",
     "text": [
      "Os ascendentes de Burglary: []\n"
     ]
    }
   ],
   "source": [
    "def asc_rec(front,exps,rede):\n",
    "#    print('checked:',exps)\n",
    "    if not front:\n",
    "        return exps\n",
    "    else:\n",
    "        first=front[0]\n",
    "#        print('next=',first)\n",
    "        del front[0]\n",
    "        new_parents=[p for p in rede.variable_node(first).parents \\\n",
    "                           if p not in exps]\n",
    "#        print('os pais de',first,'=',new_parents)\n",
    "        front += new_parents\n",
    "        exps+=new_parents\n",
    "        return asc_rec(front,exps,rede)\n",
    "\n",
    "def ascendentes(var,rede):\n",
    "    return asc_rec([var],[],rede)\n",
    "\n",
    "print('Os ascendentes de Burglary:',ascendentes('Burglary',burglary))"
   ]
  },
  {
   "cell_type": "code",
   "execution_count": 272,
   "metadata": {},
   "outputs": [
    {
     "data": {
      "text/plain": [
       "['Alarm', 'JohnCalls', 'MaryCalls']"
      ]
     },
     "execution_count": 272,
     "metadata": {},
     "output_type": "execute_result"
    }
   ],
   "source": [
    "def desc_rec(front,exps,rede):\n",
    "    if not front:\n",
    "        return exps[1:]\n",
    "    else:\n",
    "        first=front[0]\n",
    "        del front[0]\n",
    "        filhos=rede.variable_node(first).children\n",
    "        new = [f for f in filhos if f not in exps]\n",
    "        front += new\n",
    "        exps+=new\n",
    "        return desc_rec(front,exps,rede)\n",
    "\n",
    "def descendentes(var,rede):\n",
    "    return desc_rec([var],[var],rede)\n",
    "\n",
    "# Testemos para os descendentes de Burglary\n",
    "descendentes('Burglary',burglary)"
   ]
  },
  {
   "cell_type": "code",
   "execution_count": 325,
   "metadata": {},
   "outputs": [
    {
     "name": "stdout",
     "output_type": "stream",
     "text": [
      "[]\n"
     ]
    }
   ],
   "source": [
    "print(evidencias.nodes[0].parents)"
   ]
  },
  {
   "cell_type": "code",
   "execution_count": 320,
   "metadata": {},
   "outputs": [],
   "source": [
    "def display_cpt(node):\n",
    "    header='P(' + R.variables[2] + '|' + ','.join(R.nodes[2].parents) + '):'\n",
    "    #print(R)\n",
    "    print(R.nodes[2], \"\\n\")\n",
    "    print(R.variables[2],\"\\n\")\n",
    "    print(R.nodes[2].parents,\"\\n\")\n",
    "    print(header,\"\\n\")\n",
    "    pretty=PrettyTable()\n",
    "    aux = R.nodes[2].parents.copy()\n",
    "    aux.append(R.variables[2])\n",
    "    pretty.field_names = aux \n",
    "    #print(pretty.field_names)  # Caso Booleano #\n",
    "    for i in list(R.nodes[2].cpt.keys()):\n",
    "        #print(i)\n",
    "        pretty.add_row(i+('True:'+str(R.nodes[2].cpt[i]),))\n",
    "        pretty.add_row(i+('False:'+str(1.0-R.nodes[2].cpt[i]),))\n",
    "    print(pretty)\n"
   ]
  },
  {
   "cell_type": "code",
   "execution_count": 321,
   "metadata": {},
   "outputs": [
    {
     "name": "stdout",
     "output_type": "stream",
     "text": [
      "('Alarm', 'Burglary Earthquake') \n",
      "\n",
      "Alarm \n",
      "\n",
      "['Burglary', 'Earthquake'] \n",
      "\n",
      "P(Alarm|Burglary,Earthquake): \n",
      "\n",
      "+----------+------------+----------------------------+\n",
      "| Burglary | Earthquake |           Alarm            |\n",
      "+----------+------------+----------------------------+\n",
      "|   True   |    True    |         True:0.95          |\n",
      "|   True   |    True    | False:0.050000000000000044 |\n",
      "|   True   |   False    |         True:0.94          |\n",
      "|   True   |   False    | False:0.06000000000000005  |\n",
      "|  False   |    True    |         True:0.29          |\n",
      "|  False   |    True    |         False:0.71         |\n",
      "|  False   |   False    |         True:0.001         |\n",
      "|  False   |   False    |        False:0.999         |\n",
      "+----------+------------+----------------------------+\n"
     ]
    }
   ],
   "source": [
    "display_cpt(burglary)"
   ]
  },
  {
   "cell_type": "code",
   "execution_count": 229,
   "metadata": {},
   "outputs": [],
   "source": [
    "def cond_indep(X,Y,E,R):\n",
    "    if Y in descendentes(X,R) or X in descendentes(Y,R) or Y in E or X in E:\n",
    "        return False\n",
    "    return (X,Y,E,R)\n",
    "\n",
    "def cond_indep_explica(X,Y,E,R):   \n",
    "    explicacao=\"\"\n",
    "    if y in descendentes(x,rede):\n",
    "        return (False, explicacao)\n",
    "    if x in descendentes(y,rede):\n",
    "        return (False, explicacao)\n",
    "    if y in e:\n",
    "        return (False, explicacao)\n",
    "    if x in e:\n",
    "        return (False, explicacao)\n",
    "    return True\n",
    "\n",
    "def todos_cond_indeps(r):\n",
    "    out=[]\n",
    "    rVariables=set(r.variables)\n",
    "    conjuntosE=itertools.combinations(iterable, r.variables)\n",
    "    for x in rVariables:\n",
    "        for y in rVariables:\n",
    "            for e in conjuntosE:\n",
    "                i=cond_indep({x},{y}, e,r)\n",
    "                if i==True:\n",
    "                    out.append({x},{y},e)\n",
    "    return out"
   ]
  },
  {
   "cell_type": "code",
   "execution_count": 230,
   "metadata": {},
   "outputs": [],
   "source": [
    "R = burglary"
   ]
  },
  {
   "cell_type": "code",
   "execution_count": 231,
   "metadata": {},
   "outputs": [
    {
     "name": "stdout",
     "output_type": "stream",
     "text": [
      "\n",
      "Burglary é independente de Alarm? dado pais(Burglary)?\n",
      " False\n"
     ]
    }
   ],
   "source": [
    "\n",
    "print(\"\\nBurglary é independente de Alarm? dado pais(Burglary)?\\n\",cond_indep('Burglary', 'Alarm', 'MaryCalls', burglary))\n",
    "\n"
   ]
  },
  {
   "cell_type": "code",
   "execution_count": 232,
   "metadata": {},
   "outputs": [
    {
     "name": "stdout",
     "output_type": "stream",
     "text": [
      "\n",
      "JohCalls é independente de MaryCalls dado pais(JohnCalls)?\n",
      " ('JohnCalls', 'MaryCalls', 'Alarm', BayesNet([('Burglary', ''), ('Earthquake', ''), ('Alarm', 'Burglary Earthquake'), ('JohnCalls', 'Alarm'), ('MaryCalls', 'Alarm')]))\n"
     ]
    }
   ],
   "source": [
    "print(\"\\nJohCalls é independente de MaryCalls dado pais(JohnCalls)?\\n\",cond_indep('JohnCalls','MaryCalls', 'Alarm',burglary))\n",
    "\n"
   ]
  },
  {
   "cell_type": "code",
   "execution_count": null,
   "metadata": {},
   "outputs": [],
   "source": []
  },
  {
   "cell_type": "code",
   "execution_count": null,
   "metadata": {},
   "outputs": [],
   "source": []
  },
  {
   "cell_type": "code",
   "execution_count": null,
   "metadata": {},
   "outputs": [],
   "source": []
  },
  {
   "cell_type": "code",
   "execution_count": null,
   "metadata": {},
   "outputs": [],
   "source": []
  },
  {
   "cell_type": "code",
   "execution_count": null,
   "metadata": {},
   "outputs": [],
   "source": []
  },
  {
   "cell_type": "code",
   "execution_count": null,
   "metadata": {},
   "outputs": [],
   "source": []
  },
  {
   "cell_type": "code",
   "execution_count": null,
   "metadata": {},
   "outputs": [],
   "source": []
  },
  {
   "cell_type": "code",
   "execution_count": 204,
   "metadata": {},
   "outputs": [
    {
     "name": "stdout",
     "output_type": "stream",
     "text": [
      "Aceder ao no na posicao 2:\n",
      "('Alarm', 'Burglary Earthquake')\n",
      "\n",
      "Aceder ao nome do no na posicao 2:\n",
      "Alarm\n",
      "\n",
      "Aceder ao numero de nos da rede\n",
      "5\n",
      "\n",
      "Aceder aos nomes dos filhos da posicao 2:\n",
      "['JohnCalls', 'MaryCalls']\n",
      "\n",
      "Aceder aos nos dos filhos da posicao 2:\n",
      "('JohnCalls', 'Alarm')\n",
      "('MaryCalls', 'Alarm')\n",
      "\n",
      "cond_indep:  False \n",
      "\n"
     ]
    }
   ],
   "source": [
    "def teste():\n",
    "\n",
    "\n",
    "    T, F = True, False\n",
    "    burglary = BayesNet([\n",
    "    ('Burglary', '', 0.001),\n",
    "    ('Earthquake', '', 0.002),\n",
    "    ('Alarm', 'Burglary Earthquake',\n",
    "     {(T, T): 0.95, (T, F): 0.94, (F, T): 0.29, (F, F): 0.001}),\n",
    "    ('JohnCalls', 'Alarm', {T: 0.90, F: 0.05}),\n",
    "    ('MaryCalls', 'Alarm', {T: 0.70, F: 0.01})\n",
    "    ])\n",
    "\n",
    "    R = burglary\n",
    "    print(\"Aceder ao no na posicao 2:\")\n",
    "    print(R.nodes[2])\n",
    "\n",
    "    print(\"\\nAceder ao nome do no na posicao 2:\")\n",
    "    print(R.variables[2])\n",
    "\n",
    "    print(\"\\nAceder ao numero de nos da rede\")\n",
    "    print(len(R.nodes))\n",
    "\n",
    "    print(\"\\nAceder aos nomes dos filhos da posicao 2:\")\n",
    "    print(R.nodes[2].children)\n",
    "\n",
    "    print(\"\\nAceder aos nos dos filhos da posicao 2:\")\n",
    "    for i in range (len(R.nodes[2].children)): \n",
    "        print(R.nodes[2+i+1])\n",
    "\n",
    "\n",
    "    print(\"\\ncond_indep: \",cond_indep('Burglary', 'JohnCalls', 'Alarm', burglary), \"\\n\")\n",
    "    return cond_indep('Burglary', 'JohnCalls', 'Alarm', burglary)\n",
    "\n",
    "\n",
    "def desc_rec(front,exps,rede):\n",
    "    if not front:\n",
    "        return exps[1:]\n",
    "    else:\n",
    "        first=front[0]\n",
    "        del front[0]\n",
    "        filhos=rede.variable_node(first).children\n",
    "        new = [f for f in filhos if f not in exps]\n",
    "        front += new\n",
    "        exps+=new\n",
    "        return desc_rec(front,exps,rede)\n",
    "\n",
    "def descendentes(var,rede):\n",
    "    return desc_rec([var],[var],rede)\n",
    "\n",
    "# Testemos para os descendentes de Burglary\n",
    "\n",
    "\n",
    "\n",
    "def cond_indep(X,Y,E,R):   \n",
    "    if Y in descendentes(X,R) or X in descendentes(Y,R) or Y in E or X in E:\n",
    "        return False\n",
    "    return True\n",
    "\n",
    "def cond_indep_explica(X,Y,E,R):   \n",
    "    explicacao=\"\"\n",
    "    if y in descendentes(x,rede):\n",
    "        return (False, explicacao)\n",
    "    if x in descendentes(y,rede):\n",
    "        return (False, explicacao)\n",
    "    if y in e:\n",
    "        return (False, explicacao)\n",
    "    if x in e:\n",
    "        return (False, explicacao)\n",
    "    return True\n",
    "\n",
    "def todos_cond_indeps(r):\n",
    "    out=[]\n",
    "    rVariables=set(r.variables)\n",
    "    conjuntosE=itertools.combinations(iterable, r.variables)\n",
    "    for x in rVariables:\n",
    "        for y in rVariables:\n",
    "            for e in conjuntosE:\n",
    "                i=cond_indep({x},{y}, e,r)\n",
    "                if i==True:\n",
    "                    out.append({x},{y},e)\n",
    "    return out\n",
    "\n",
    "\n",
    "\n",
    "if __name__ == '__main__':\n",
    "    teste()"
   ]
  },
  {
   "cell_type": "code",
   "execution_count": null,
   "metadata": {},
   "outputs": [],
   "source": []
  },
  {
   "cell_type": "code",
   "execution_count": null,
   "metadata": {},
   "outputs": [],
   "source": []
  },
  {
   "cell_type": "code",
   "execution_count": 58,
   "metadata": {},
   "outputs": [
    {
     "name": "stdout",
     "output_type": "stream",
     "text": [
      "Aceder ao no na posicao 2:\n",
      "('Alarm', 'Burglary Earthquake')\n",
      "\n",
      "Aceder ao nome do no na posicao 2:\n",
      "Alarm\n",
      "\n",
      "Aceder ao numero de nos da rede\n",
      "5\n",
      "\n",
      "Aceder aos nomes dos filhos da posicao 2:\n",
      "['JohnCalls', 'MaryCalls']\n",
      "\n",
      "Aceder aos nos dos filhos da posicao 2:\n",
      "('JohnCalls', 'Alarm')\n",
      "('MaryCalls', 'Alarm')\n",
      "\n",
      "cond_indep:  False \n",
      "\n"
     ]
    }
   ],
   "source": [
    "def teste():\n",
    "\n",
    "\n",
    "    T, F = True, False\n",
    "    burglary = BayesNet([\n",
    "    ('Burglary', '', 0.001),\n",
    "    ('Earthquake', '', 0.002),\n",
    "    ('Alarm', 'Burglary Earthquake',\n",
    "     {(T, T): 0.95, (T, F): 0.94, (F, T): 0.29, (F, F): 0.001}),\n",
    "    ('JohnCalls', 'Alarm', {T: 0.90, F: 0.05}),\n",
    "    ('MaryCalls', 'Alarm', {T: 0.70, F: 0.01})\n",
    "    ])\n",
    "\n",
    "    R = burglary\n",
    "    print(\"Aceder ao no na posicao 2:\")\n",
    "    print(R.nodes[2])\n",
    "\n",
    "    print(\"\\nAceder ao nome do no na posicao 2:\")\n",
    "    print(R.variables[2])\n",
    "\n",
    "    print(\"\\nAceder ao numero de nos da rede\")\n",
    "    print(len(R.nodes))\n",
    "\n",
    "    print(\"\\nAceder aos nomes dos filhos da posicao 2:\")\n",
    "    print(R.nodes[2].children)\n",
    "\n",
    "    print(\"\\nAceder aos nos dos filhos da posicao 2:\")\n",
    "    for i in range (len(R.nodes[2].children)): \n",
    "        print(R.nodes[2+i+1])\n",
    "\n",
    "\n",
    "    print(\"\\ncond_indep: \",cond_indep('Burglary', 'JohnCalls', 'Alarm', burglary), \"\\n\")\n",
    "    return cond_indep('Burglary', 'JohnCalls', 'Alarm', burglary)\n",
    "\n",
    "\n",
    "def desc_rec(front,exps,rede):\n",
    "    if not front:\n",
    "        return exps[1:]\n",
    "    else:\n",
    "        first=front[0]\n",
    "        del front[0]\n",
    "        filhos=rede.variable_node(first).children\n",
    "        new = [f for f in filhos if f not in exps]\n",
    "        front += new\n",
    "        exps+=new\n",
    "        return desc_rec(front,exps,rede)\n",
    "\n",
    "def descendentes(var,rede):\n",
    "    return desc_rec([var],[var],rede)\n",
    "\n",
    "# Testemos para os descendentes de Burglary\n",
    "\n",
    "\n",
    "\n",
    "def cond_indep(X,Y,E,R):   \n",
    "    if Y in descendentes(X,R) or X in descendentes(Y,R) or Y in E or X in E:\n",
    "        return False\n",
    "    return True\n",
    "\n",
    "def cond_indep_explica(X,Y,E,R):   \n",
    "    explicacao=\"\"\n",
    "    if y in descendentes(x,rede):\n",
    "        return (False, explicacao)\n",
    "    if x in descendentes(y,rede):\n",
    "        return (False, explicacao)\n",
    "    if y in e:\n",
    "        return (False, explicacao)\n",
    "    if x in e:\n",
    "        return (False, explicacao)\n",
    "    return True\n",
    "\n",
    "def todos_cond_indeps(r):\n",
    "    out=[]\n",
    "    rVariables=set(r.variables)\n",
    "    conjuntosE=itertools.combinations(iterable, r.variables)\n",
    "    for x in rVariables:\n",
    "        for y in rVariables:\n",
    "            for e in conjuntosE:\n",
    "                i=cond_indep({x},{y}, e,r)\n",
    "                if i==True:\n",
    "                    out.append({x},{y},e)\n",
    "    return out\n",
    "    \n",
    "\n",
    "\n",
    "if __name__ == '__main__':\n",
    "    teste()"
   ]
  },
  {
   "cell_type": "code",
   "execution_count": null,
   "metadata": {},
   "outputs": [],
   "source": []
  },
  {
   "cell_type": "code",
   "execution_count": null,
   "metadata": {},
   "outputs": [],
   "source": []
  },
  {
   "cell_type": "code",
   "execution_count": null,
   "metadata": {},
   "outputs": [],
   "source": []
  }
 ],
 "metadata": {
  "kernelspec": {
   "display_name": "Python 3",
   "language": "python",
   "name": "python3"
  },
  "language_info": {
   "codemirror_mode": {
    "name": "ipython",
    "version": 3
   },
   "file_extension": ".py",
   "mimetype": "text/x-python",
   "name": "python",
   "nbconvert_exporter": "python",
   "pygments_lexer": "ipython3",
   "version": "3.8.5"
  }
 },
 "nbformat": 4,
 "nbformat_minor": 4
}
