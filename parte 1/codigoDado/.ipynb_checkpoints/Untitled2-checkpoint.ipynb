{
 "cells": [
  {
   "cell_type": "code",
   "execution_count": 55,
   "metadata": {},
   "outputs": [],
   "source": [
    "from probabilityPlus import *\n",
    "from prettytable import *\n",
    "from agents import *\n",
    "from ipythonblocks import *\n",
    "from utils import *"
   ]
  },
  {
   "cell_type": "markdown",
   "metadata": {},
   "source": [
    "### Cálculo dos descendentes"
   ]
  },
  {
   "cell_type": "code",
   "execution_count": 56,
   "metadata": {},
   "outputs": [],
   "source": [
    "def desc_rec(front,exps,rede):\n",
    "    if not front:\n",
    "        return exps[1:]\n",
    "    else:\n",
    "        first=front[0]\n",
    "        del front[0]\n",
    "        filhos=rede.variable_node(first).children\n",
    "        new = [f for f in filhos if f not in exps]\n",
    "        front += new\n",
    "        exps+=new\n",
    "        return desc_rec(front,exps,rede)\n",
    "\n",
    "def descendentes(var,rede):\n",
    "    return desc_rec([var],[var],rede)"
   ]
  },
  {
   "cell_type": "code",
   "execution_count": null,
   "metadata": {},
   "outputs": [],
   "source": []
  },
  {
   "cell_type": "code",
   "execution_count": 57,
   "metadata": {},
   "outputs": [],
   "source": [
    "def cond_indep(X,Y,E,R):\n",
    "    if Y in descendentes(X,R) or X in descendentes(Y,R) or Y in E or X in E:\n",
    "        return False\n",
    "    return (X,Y,E,R)"
   ]
  },
  {
   "cell_type": "code",
   "execution_count": null,
   "metadata": {},
   "outputs": [],
   "source": []
  },
  {
   "cell_type": "code",
   "execution_count": 58,
   "metadata": {},
   "outputs": [],
   "source": [
    "def cond_indep_explica(X,Y,E,R):   \n",
    "    #print(\"Para que X seja independente de Y dado E:\")\n",
    "    #print(\"• Y não pode ser descendente de X\\n• X não pode ser descendente de Y\\n• Nem X nem Y podem estar nem em E\\n\")\n",
    "    #print(\"E =\",E)\n",
    "    #print(\"X =\",X)\n",
    "    #print(\"Y =\",Y)\n",
    "    #print(\"Descendentes de \" + X + \":\",descendentes(X,burglary))\n",
    "    #print(\"Descendentes de \" + Y + \":\",descendentes(Y,burglary))\n",
    "    #print(\"\\n\")\n",
    "\n",
    "    explicacao = \"Por isso, X e Y não são condicionalmente independentes.\"\n",
    "    if Y in descendentes(X,R):\n",
    "        return (False,'Y é descendente de X. ' + explicacao)\n",
    "    if X in descendentes(Y,R):\n",
    "        return (False, 'X é descendente de Y. ' + explicacao)\n",
    "    if Y in E:\n",
    "        return (False, 'E contém Y. ' + explicacao)\n",
    "    if X in E:\n",
    "        return (False, 'E contém X. ' + explicacao)\n",
    "    return (True, 'X e Y são condicionalmente independentes.')"
   ]
  },
  {
   "cell_type": "code",
   "execution_count": null,
   "metadata": {},
   "outputs": [],
   "source": []
  },
  {
   "cell_type": "code",
   "execution_count": 59,
   "metadata": {},
   "outputs": [],
   "source": [
    "def todos_cond_indeps(rede):\n",
    "    var=set(rede.variables)\n",
    "    lista=[]\n",
    "    for x in var:\n",
    "        otherX=var-{x}\n",
    "        for y in otherX:\n",
    "            i=cond_indep_aux(x,y,rede)\n",
    "            if i:\n",
    "                lista.append(i)\n",
    "    return lista"
   ]
  },
  {
   "cell_type": "code",
   "execution_count": 60,
   "metadata": {},
   "outputs": [],
   "source": [
    "def cond_indep_aux(x,y,rede):\n",
    "    lista=[]\n",
    "    listaAux=[]\n",
    "    var=set(rede.variables)-{x}-{y}\n",
    "    for i in range(1,len(var)):\n",
    "        listaAux=list(combinations(var, i)) \n",
    "        lista.append(listaAux)  \n",
    "    ret=[]\n",
    "    for e in lista:\n",
    "        if cond_indep(x,y,e,rede)==True:\n",
    "            ret.append((x,y,e))\n",
    "    return ret"
   ]
  },
  {
   "cell_type": "markdown",
   "metadata": {},
   "source": [
    "print('Triplos para JohnCalls:',todos_cond_indeps(burglary))"
   ]
  },
  {
   "cell_type": "markdown",
   "metadata": {},
   "source": [
    "def as_cond_indep(e,rede):\n",
    "    out=[]\n",
    "    Ce={e}\n",
    "    others=set(rede.variables) - Ce\n",
    "    #print(rede.variables, \"var\")\n",
    "    #print(others, \"others\")\n",
    "    #print(Ce, \"xx\")\n",
    "    for var in others:\n",
    "        i=cond_indep({X},{Y}, [var],rede)\n",
    "        print(i, \"aaaaaaa\")\n",
    "        if i!=False:\n",
    "            out.append(i)\n",
    "    return out"
   ]
  },
  {
   "cell_type": "markdown",
   "metadata": {},
   "source": [
    "print('Triplos para JohnCalls:',as_cond_indep('JohnCalls',burglary))"
   ]
  },
  {
   "cell_type": "markdown",
   "metadata": {},
   "source": [
    "def todos_cond_indeps(rede):\n",
    "    return reduce(operator.concat,[as_cond_indep(var,rede) for var in rede.variables])\n",
    "                  "
   ]
  },
  {
   "cell_type": "markdown",
   "metadata": {},
   "source": [
    "print('Todas Todas:',todos_cond_indeps(burglary),\"\\n\\n\")\n"
   ]
  },
  {
   "cell_type": "markdown",
   "metadata": {},
   "source": [
    "def todos_cond_indeps(r):\n",
    "    out=[]\n",
    "    rVariables=set(r.variables)\n",
    "    conjuntosE=itertools.combinations(iterable, r.variables)\n",
    "    print(r.variables)\n",
    "    for x in rVariables:\n",
    "        for y in rVariables:\n",
    "            for e in conjuntosE:\n",
    "                i=cond_indep({x},{y}, e,r)\n",
    "                if i==True:\n",
    "                    out.append({x},{y},e)\n",
    "    return out\n",
    "print('Triplos para Burglary:',todos_cond_indeps(burglary))"
   ]
  },
  {
   "cell_type": "code",
   "execution_count": null,
   "metadata": {},
   "outputs": [],
   "source": []
  },
  {
   "cell_type": "markdown",
   "metadata": {},
   "source": [
    "\n",
    "def as_cond_indep(E,R):\n",
    "    out=[]\n",
    "    Ce={E}\n",
    "    others=set(R.variables) - Ce\n",
    "    print(R.variables)\n",
    "    print(others, \"others\")\n",
    "    print(Ce, \"eee\")\n",
    "    for var in others:\n",
    "        i=cond_indep(X,var,E,R)\n",
    "        if i!=False:\n",
    "            out.append(i)\n",
    "    return out\n",
    "\n",
    "R = burglary\n",
    "print('Triplos para Burglary:',as_cond_indep('JohnCalls',burglary))"
   ]
  },
  {
   "cell_type": "code",
   "execution_count": null,
   "metadata": {},
   "outputs": [],
   "source": []
  },
  {
   "cell_type": "markdown",
   "metadata": {},
   "source": [
    "## Testes"
   ]
  },
  {
   "cell_type": "code",
   "execution_count": 61,
   "metadata": {},
   "outputs": [],
   "source": [
    "T, F = True, False\n",
    "burglary = BayesNet([\n",
    "    ('Burglary', '', 0.001),\n",
    "    ('Earthquake', '', 0.002),\n",
    "    ('Alarm', 'Burglary Earthquake',\n",
    "     {(T, T): 0.95, (T, F): 0.94, (F, T): 0.29, (F, F): 0.001}),\n",
    "    ('JohnCalls', 'Alarm', {T: 0.90, F: 0.05}),\n",
    "    ('MaryCalls', 'Alarm', {T: 0.70, F: 0.01})\n",
    "    ])"
   ]
  },
  {
   "cell_type": "code",
   "execution_count": null,
   "metadata": {},
   "outputs": [],
   "source": []
  },
  {
   "cell_type": "code",
   "execution_count": 62,
   "metadata": {},
   "outputs": [
    {
     "name": "stdout",
     "output_type": "stream",
     "text": [
      "Descendentes de Burglary: ['Alarm', 'JohnCalls', 'MaryCalls']\n",
      "Descendentes de Alarm: ['JohnCalls', 'MaryCalls']\n",
      "(False, 'Y é descendente de X. Por isso, X e Y não são condicionalmente independentes.')\n"
     ]
    }
   ],
   "source": [
    "X = 'Burglary'\n",
    "Y = 'Alarm'\n",
    "E = 'Earthquake'\n",
    "print(\"Descendentes de \" + X + \":\",descendentes(X,burglary))\n",
    "print(\"Descendentes de \" + Y + \":\",descendentes(Y,burglary))\n",
    "\n",
    "print(cond_indep_explica(X, Y, E, burglary))"
   ]
  },
  {
   "cell_type": "code",
   "execution_count": 63,
   "metadata": {},
   "outputs": [
    {
     "name": "stdout",
     "output_type": "stream",
     "text": [
      "Descendentes de Alarm: ['JohnCalls', 'MaryCalls']\n",
      "(False, 'X é descendente de Y. Por isso, X e Y não são condicionalmente independentes.')\n"
     ]
    }
   ],
   "source": [
    "X = 'JohnCalls'\n",
    "Y = 'Alarm'\n",
    "E = 'Earthquake'\n",
    "print(\"Descendentes de \" + Y + \":\",descendentes(Y,burglary))\n",
    "\n",
    "print(cond_indep_explica(X, Y, E, burglary))"
   ]
  },
  {
   "cell_type": "code",
   "execution_count": 64,
   "metadata": {},
   "outputs": [],
   "source": [
    "#testar os caso dos 2\n",
    "\n"
   ]
  },
  {
   "cell_type": "code",
   "execution_count": 65,
   "metadata": {},
   "outputs": [
    {
     "name": "stdout",
     "output_type": "stream",
     "text": [
      "(False, 'E contém Y. Por isso, X e Y não são condicionalmente independentes.')\n"
     ]
    }
   ],
   "source": [
    "X = 'Burglary'\n",
    "Y = 'Earthquake'\n",
    "E = ['Alarm', 'Earthquake', 'Burglary']\n",
    "\n",
    "print(cond_indep_explica('Burglary', 'Earthquake', E, burglary))"
   ]
  },
  {
   "cell_type": "code",
   "execution_count": 66,
   "metadata": {},
   "outputs": [
    {
     "name": "stdout",
     "output_type": "stream",
     "text": [
      "(False, 'E contém X. Por isso, X e Y não são condicionalmente independentes.')\n"
     ]
    }
   ],
   "source": [
    "X = 'Burglary'\n",
    "Y = 'Earthquake'\n",
    "E = ['Alarm', 'Burglary']\n",
    "\n",
    "print(cond_indep_explica('Burglary', 'Earthquake', E, burglary))"
   ]
  },
  {
   "cell_type": "code",
   "execution_count": 67,
   "metadata": {},
   "outputs": [
    {
     "name": "stdout",
     "output_type": "stream",
     "text": [
      "Triplos para JohnCalls: []\n"
     ]
    }
   ],
   "source": [
    "print('Triplos para JohnCalls:',todos_cond_indeps(burglary))\n"
   ]
  }
 ],
 "metadata": {
  "kernelspec": {
   "display_name": "Python 3",
   "language": "python",
   "name": "python3"
  },
  "language_info": {
   "codemirror_mode": {
    "name": "ipython",
    "version": 3
   },
   "file_extension": ".py",
   "mimetype": "text/x-python",
   "name": "python",
   "nbconvert_exporter": "python",
   "pygments_lexer": "ipython3",
   "version": "3.8.5"
  }
 },
 "nbformat": 4,
 "nbformat_minor": 4
}
