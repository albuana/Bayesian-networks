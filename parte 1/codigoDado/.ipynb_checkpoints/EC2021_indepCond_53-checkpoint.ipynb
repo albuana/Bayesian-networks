{
 "cells": [
  {
   "cell_type": "markdown",
   "metadata": {},
   "source": [
    "#  Topologia das Redes de Bayes e os Pressupostos de Independência Condicional\n",
    "## Projeto nº 1, parte 1: Engenharia de Conhecimento 20/21\n",
    "\n",
    "\n",
    "## Grupo: 53\n",
    "\n",
    "### Elementos do Grupo\n",
    "\n",
    "Nome: Ana Alburquerque\n",
    "\n",
    "Número: 53512\n",
    "\n",
    "Nome: Tiago Cabrita\n",
    "\n",
    "Número: 52741\n",
    "\n",
    "Nome: Gonçalo Antunes\n",
    "\n",
    "Número: 52831"
   ]
  },
  {
   "cell_type": "markdown",
   "metadata": {},
   "source": [
    "## Objetivo\n",
    "Pretende-se que dado uma rede de bayes consigamos dado dois nós e uma evid"
   ]
  },
  {
   "cell_type": "markdown",
   "metadata": {},
   "source": [
    "## Imports"
   ]
  },
  {
   "cell_type": "code",
   "execution_count": 31,
   "metadata": {},
   "outputs": [],
   "source": [
    "from prettytable import *\n",
    "from utils import *\n",
    "from utils import *\n",
    "from probabilityPlus import *\n",
    "from itertools import *"
   ]
  },
  {
   "cell_type": "markdown",
   "metadata": {},
   "source": [
    "## Função cond_indep"
   ]
  },
  {
   "cell_type": "markdown",
   "metadata": {},
   "source": [
    "### Explicação\n",
    "\n",
    "A função **cond_indep** começa por converter a rede num dicionário e chama a função **find_all_paths** que devolve todos os caminhos possíveis entre \"x\" e \"y\", também verifica se \"e\" é uma string do tipo \"A B\" e converte para uma lista.\n",
    "\n",
    "Para cada caminho inicia uma variável booleana \"temInativos\" que começa com falso e por cada caminho converte-o em triplos chamando a função **triplosEmCaminho**, depois para cada evidência em \"e\" e para cada triplo se a evidência estiver no triplo quer dizer que o caminho é inativo logo temInativos passa a verdadeiro e depois é adicionado a uma lista inativosCaminho. \n",
    "\n",
    "No final, se existir algum falso em inativosCaminho é retornado falso caso contrário é verdade que \"x\" e \"y\" são condicionalmente independentes dado \"e\"."
   ]
  },
  {
   "cell_type": "code",
   "execution_count": 32,
   "metadata": {},
   "outputs": [],
   "source": [
    "def cond_indep(x,y,e,rede):   \n",
    "    if isinstance(e, str):\n",
    "        e=e.split(\" \")\n",
    "    dic=graphToDic(rede)\n",
    "    caminhos=find_all_paths(dic,x,y,[])\n",
    "    inativosCaminho=[]\n",
    "    for i in caminhos:\n",
    "        temInativos=False\n",
    "        if i:\n",
    "            triplos=triplosEmCaminho(i)\n",
    "            for t in triplos:\n",
    "                for j in e:\n",
    "                    if j in t:\n",
    "                        temInativos=True\n",
    "        inativosCaminho.append(temInativos)\n",
    "    for i in inativosCaminho:\n",
    "        if i==False:\n",
    "            return False\n",
    "    return True"
   ]
  },
  {
   "cell_type": "markdown",
   "metadata": {},
   "source": [
    "## Função cond_indep_explica"
   ]
  },
  {
   "cell_type": "markdown",
   "metadata": {},
   "source": [
    "### Explicação\n",
    "\n",
    "A função **cond_indep_explica** começa por converter a rede num dicionário e chama a função **find_all_paths** que devolve todos os caminhos possíveis entre \"x\" e \"y\". \n",
    "\n",
    "No primeiro for percorre a lista caminhos e converte-a em triplos e depois por cada triplo em caminhos adiciona à lista resposta um tuplo com o **número do caminho** e uma **string com a explicação** que é devolvida através da chamada à função **checkTriplo**. \n",
    "\n",
    "Percorre novamente a lista caminhos e depois junta as explicações para cada caminho. \n",
    "\n",
    "No final, verficica se são \"x\" e \"y\" são condicionalmente independentes dado \"e\" e dependendo da resposta adiciona a respetiva explicação e retorna o valor de **cond_indep** e a **explicação num tuplo**."
   ]
  },
  {
   "cell_type": "code",
   "execution_count": 33,
   "metadata": {},
   "outputs": [],
   "source": [
    "def cond_indep_explica(x,y,e,rede):   \n",
    "    dic=graphToDic(rede)\n",
    "    caminhos=find_all_paths(dic,x,y,[])\n",
    "    triplos=[]\n",
    "    resposta=[]\n",
    "    for i in range(0,len(caminhos)):\n",
    "        triplos=triplosEmCaminho(caminhos[i])\n",
    "        for triplo in triplos:\n",
    "            resposta.append((i,checkTriplo(triplo,e,rede)))\n",
    "    explicacao=\"\"\n",
    "    for i in range(0,len(caminhos)):\n",
    "        inicio=0\n",
    "        for j in range(0,len(resposta)):\n",
    "            if j==0:\n",
    "                explicacao=explicacao+ 'No '+str(i+1)+'º caminho, '\n",
    "            if resposta[j][0]==i:\n",
    "                inicio=inicio+1\n",
    "                explicacao=explicacao+'o '+str(inicio)+'º triplo é '+resposta[j][1]+', '\n",
    "    cond=cond_indep(x,y,e,rede)\n",
    "    if cond:\n",
    "        explicacao+='logo X e Y são condicionalmente independentes, porque todos os caminhos são inativos.'\n",
    "    else:       \n",
    "        explicacao+='logo X e Y não são condicionalmente independentes, porque existe pelo menos um caminho ativo.'\n",
    "    return (cond,explicacao)"
   ]
  },
  {
   "cell_type": "markdown",
   "metadata": {},
   "source": [
    "## Função todos_cond_indeps"
   ]
  },
  {
   "cell_type": "markdown",
   "metadata": {},
   "source": [
    "### Explicação\n",
    "\n",
    "A função **todos_cond_indeps** começa por passar a rede para uma lista de nodes.\n",
    "\n",
    "Percorre essa lista de nodes duas vezes subtraindo o valor escolhido anteriormente.\n",
    "\n",
    "De seguida, com os dois valores dos fors \"x\" e \"y\", percorre todas as evidências possíveis e chama a função **cond_indep**. Se retornar verdadeiro, o triplo é adicionádo à lista para ser retornado."
   ]
  },
  {
   "cell_type": "code",
   "execution_count": 34,
   "metadata": {},
   "outputs": [],
   "source": [
    "def todos_cond_indeps(rede):\n",
    "    var=set(rede.variables)\n",
    "    lista=[]\n",
    "    for x in var:\n",
    "        otherX=var-{x}\n",
    "        for y in otherX:\n",
    "            allE=all_possible_e(rede,x,y)\n",
    "            for z in allE:\n",
    "                i=cond_indep(x,y,z,rede)\n",
    "                if i and checkAlreadyIn(x,y,z,lista):\n",
    "                    lista.append((x,y,z))\n",
    "    return lista"
   ]
  },
  {
   "cell_type": "markdown",
   "metadata": {},
   "source": [
    "## Funções Auxiliares"
   ]
  },
  {
   "cell_type": "markdown",
   "metadata": {},
   "source": [
    "### find_all_paths\n",
    "\n",
    "Recebe um grafo, um inicio, um fim e uma lista vazia.\n",
    "Retorna todos os caminhos possiveis entre o inicio e o fim.\n",
    "\n",
    "### graphToDic\n",
    "\n",
    "Converte uma rede de bayes num dicionário em que para cada node os seus filhos e pais são caminhos disponíveis para seguir.\n",
    "\n",
    "###  all_possible_e\n",
    "\n",
    "Recebe uma rede de bayes e devolve todas as combinações possíveis de evidências.\n",
    "\n",
    "### triplosEmCaminho\n",
    "\n",
    "Recebendo um caminho que é uma lista de nodes retorna uma lista com os triplos do caminho dado.\n",
    "\n",
    "\n",
    "### checkTriplo\n",
    "\n",
    "Recebe um triplo, uma lista de nodes e uma rede. Verifica de que tipo é o triplo e se este é ativo ou inativo dado uma determinada evidência.\n",
    "\n",
    "### checkAlreadyIn\n",
    "\n",
    "TODO"
   ]
  },
  {
   "cell_type": "code",
   "execution_count": 46,
   "metadata": {},
   "outputs": [
    {
     "ename": "NameError",
     "evalue": "name 'ashgjffhj' is not defined",
     "output_type": "error",
     "traceback": [
      "\u001b[0;31m---------------------------------------------------------------------------\u001b[0m",
      "\u001b[0;31mNameError\u001b[0m                                 Traceback (most recent call last)",
      "\u001b[0;32m<ipython-input-46-8f24a743b2e6>\u001b[0m in \u001b[0;36m<module>\u001b[0;34m\u001b[0m\n\u001b[0;32m----> 1\u001b[0;31m \u001b[0mashgjffhj\u001b[0m\u001b[0;34m\u001b[0m\u001b[0;34m\u001b[0m\u001b[0m\n\u001b[0m",
      "\u001b[0;31mNameError\u001b[0m: name 'ashgjffhj' is not defined"
     ]
    }
   ],
   "source": [
    "ashgjffhj"
   ]
  },
  {
   "cell_type": "code",
   "execution_count": 35,
   "metadata": {},
   "outputs": [],
   "source": [
    "def find_all_paths(graph, start, end, path=[]):\n",
    "    path = path + [start]\n",
    "    if start == end:\n",
    "        return [path]\n",
    "    if not start in graph:\n",
    "        return []\n",
    "    paths = []\n",
    "    for node in graph[start]:\n",
    "        if node not in path:\n",
    "            newpaths = find_all_paths(graph, node, end, path)\n",
    "            for newpath in newpaths:\n",
    "                paths.append(newpath)\n",
    "    return paths\n",
    "\n",
    "def graphToDic(rede):\n",
    "    var=set(rede.variables)\n",
    "    myDict={}\n",
    "    for v in var:\n",
    "        myDict[v]=rede.variable_node(v).parents+rede.variable_node(v).children\n",
    "    return myDict\n",
    "\n",
    "def all_possible_e(rede,x,y):\n",
    "    var=set(grafo.variables)\n",
    "    lista=[]\n",
    "    var=var-{x}-{y}\n",
    "    for i in var:\n",
    "        lista.append(i)\n",
    "    for i in range(2,len(var)+1):\n",
    "        perm = permutations(var, i)\n",
    "        for j in perm:\n",
    "            lista.append(j)\n",
    "    return lista\n",
    "\n",
    "        \n",
    "def triplosEmCaminho(caminho):\n",
    "    triplos=[]\n",
    "    for i in range(0,len(caminho)):\n",
    "        if i+2>len(caminho)-1:\n",
    "            return triplos\n",
    "        triplos.append((caminho[i],caminho[i+1],caminho[i+2]))\n",
    "        \n",
    "def checkTriplo(triplo,e,rede):\n",
    "    pais1=rede.variable_node(triplo[0]).parents\n",
    "    pais2=rede.variable_node(triplo[1]).parents\n",
    "    pais3=rede.variable_node(triplo[2]).parents\n",
    "    explicacao=\"\"\n",
    "\n",
    "    if triplo[0] in pais2 and triplo[1] in pais3:\n",
    "        explicacao += \"uma cadeia causal \"\n",
    "    if triplo[0] in pais2 and triplo[2] in pais2:\n",
    "        explicacao += \"um efeito comum \"\n",
    "    if triplo[1] in pais1 and triplo[1] in pais3:\n",
    "        explicacao += \"uma causa comum \"\n",
    "    for i in e:\n",
    "        if i in triplo:\n",
    "            return explicacao + \"inativ@\"\n",
    "    return explicacao + \"ativ@\"\n",
    "\n",
    "def checkAlreadyIn(x,y,z,lista):\n",
    "    for i in range(0,len(lista)):\n",
    "        cond=set(z)==set(lista[i][2])\n",
    "        if x in lista[i] and y in lista[i] and cond:\n",
    "            return False    \n",
    "    \n",
    "    return True"
   ]
  },
  {
   "cell_type": "markdown",
   "metadata": {},
   "source": [
    "## Testes"
   ]
  },
  {
   "cell_type": "markdown",
   "metadata": {},
   "source": [
    "Vamos testar para o caso da rede de Bayes Burglary."
   ]
  },
  {
   "cell_type": "code",
   "execution_count": 36,
   "metadata": {},
   "outputs": [],
   "source": [
    "T, F = True, False\n",
    "burglary = BayesNet([\n",
    "    ('Burglary', '', 0.001),\n",
    "    ('Earthquake', '', 0.002),\n",
    "    ('Alarm', 'Burglary Earthquake',\n",
    "     {(T, T): 0.95, (T, F): 0.94, (F, T): 0.29, (F, F): 0.001}),\n",
    "    ('JohnCalls', 'Alarm', {T: 0.90, F: 0.05}),\n",
    "    ('MaryCalls', 'Alarm', {T: 0.70, F: 0.01})\n",
    "    ])"
   ]
  },
  {
   "cell_type": "markdown",
   "metadata": {},
   "source": [
    "Agora vamos testar para ver se Burglary e Alarm são condicionalmente independentes dado Earthquake..."
   ]
  },
  {
   "cell_type": "code",
   "execution_count": 37,
   "metadata": {},
   "outputs": [
    {
     "name": "stdout",
     "output_type": "stream",
     "text": [
      "(False, 'logo X e Y não são condicionalmente independentes, porque existe pelo menos um caminho ativo.')\n"
     ]
    }
   ],
   "source": [
    "X = 'Burglary'\n",
    "Y = 'Alarm'\n",
    "E = 'Earthquake'\n",
    "\n",
    "print(cond_indep_explica(X, Y, E, burglary))"
   ]
  },
  {
   "cell_type": "markdown",
   "metadata": {},
   "source": [
    "Agora vamos ver se JohnCalls é condicionalmente independente de Alarm dado Earthquake..."
   ]
  },
  {
   "cell_type": "code",
   "execution_count": 38,
   "metadata": {},
   "outputs": [
    {
     "name": "stdout",
     "output_type": "stream",
     "text": [
      "(False, 'logo X e Y não são condicionalmente independentes, porque existe pelo menos um caminho ativo.')\n"
     ]
    }
   ],
   "source": [
    "X = 'JohnCalls'\n",
    "Y = 'Alarm'\n",
    "E = 'Earthquake'\n",
    "\n",
    "print(cond_indep_explica(X, Y, E, burglary))"
   ]
  },
  {
   "cell_type": "markdown",
   "metadata": {},
   "source": [
    "### Caso do exemplo no enunciado"
   ]
  },
  {
   "cell_type": "code",
   "execution_count": 39,
   "metadata": {},
   "outputs": [],
   "source": [
    "grafo=BayesNet([\n",
    "    ('A', '', 0.5),\n",
    "    ('B', 'A', {T: 0.90, F: 0.05}),\n",
    "    ('D', 'A', {T: 0.90, F: 0.05}),\n",
    "    ('C', 'B', {T: 0.90, F: 0.05}),\n",
    "    ('E', 'B D', {(T, T): 0.95, (T, F): 0.94, (F, T): 0.29, (F, F): 0.001}),\n",
    "    ])"
   ]
  },
  {
   "cell_type": "code",
   "execution_count": 40,
   "metadata": {},
   "outputs": [
    {
     "name": "stdout",
     "output_type": "stream",
     "text": [
      "BayesNet([('A', ''), ('B', 'A'), ('D', 'A'), ('C', 'B'), ('E', 'B D')])\n"
     ]
    }
   ],
   "source": [
    "print(grafo)"
   ]
  },
  {
   "cell_type": "markdown",
   "metadata": {},
   "source": [
    "Vamos ver se A e C são condicionalmente independente dado B"
   ]
  },
  {
   "cell_type": "code",
   "execution_count": 41,
   "metadata": {},
   "outputs": [
    {
     "name": "stdout",
     "output_type": "stream",
     "text": [
      "True\n"
     ]
    }
   ],
   "source": [
    "print(cond_indep('A', 'C', 'B', grafo))"
   ]
  },
  {
   "cell_type": "markdown",
   "metadata": {},
   "source": [
    "Vamos ver se A e C são condicionalmente independente dado E"
   ]
  },
  {
   "cell_type": "code",
   "execution_count": 42,
   "metadata": {},
   "outputs": [
    {
     "name": "stdout",
     "output_type": "stream",
     "text": [
      "False\n"
     ]
    }
   ],
   "source": [
    "print(cond_indep('A', 'C', 'E', grafo))"
   ]
  },
  {
   "cell_type": "markdown",
   "metadata": {},
   "source": [
    "### Vamos então agora explicar os dois exemplos"
   ]
  },
  {
   "cell_type": "markdown",
   "metadata": {},
   "source": [
    "Se for dada a evidência  𝐸:"
   ]
  },
  {
   "cell_type": "code",
   "execution_count": 43,
   "metadata": {},
   "outputs": [
    {
     "name": "stdout",
     "output_type": "stream",
     "text": [
      "(False, 'No 1º caminho, o 1º triplo é uma cadeia causal ativ@, No 2º caminho, o 1º triplo é uma cadeia causal inativ@, o 2º triplo é um efeito comum inativ@, o 3º triplo é uma causa comum inativ@, logo X e Y não são condicionalmente independentes, porque existe pelo menos um caminho ativo.')\n"
     ]
    }
   ],
   "source": [
    "print(cond_indep_explica('A', 'C', 'E', grafo))"
   ]
  },
  {
   "cell_type": "markdown",
   "metadata": {},
   "source": [
    "Se for dada a evidência  𝐵:"
   ]
  },
  {
   "cell_type": "code",
   "execution_count": 44,
   "metadata": {},
   "outputs": [
    {
     "name": "stdout",
     "output_type": "stream",
     "text": [
      "(True, 'No 1º caminho, o 1º triplo é uma cadeia causal inativ@, No 2º caminho, o 1º triplo é uma cadeia causal ativ@, o 2º triplo é um efeito comum inativ@, o 3º triplo é uma causa comum inativ@, logo X e Y são condicionalmente independentes, porque todos os caminhos são inativos.')\n"
     ]
    }
   ],
   "source": [
    "print(cond_indep_explica('A', 'C', 'B', grafo))"
   ]
  },
  {
   "cell_type": "markdown",
   "metadata": {},
   "source": [
    "Agora vamos ver todos os triplos distintos  (𝑋,𝑌,𝐸)  tais que se verifica que  𝑋  é condicionalmente independente de  𝑌  dado  𝐸  na rede  𝑅 ."
   ]
  },
  {
   "cell_type": "code",
   "execution_count": 45,
   "metadata": {
    "scrolled": true
   },
   "outputs": [
    {
     "name": "stdout",
     "output_type": "stream",
     "text": [
      "[('E', 'A', ('B', 'D')), ('E', 'A', ('B', 'C', 'D')), ('E', 'C', 'B'), ('E', 'C', ('B', 'A')), ('E', 'C', ('B', 'D')), ('E', 'C', ('B', 'A', 'D')), ('B', 'D', ('A', 'E')), ('B', 'D', ('A', 'E', 'C')), ('A', 'C', 'B'), ('A', 'C', ('B', 'E')), ('A', 'C', ('B', 'D')), ('A', 'C', ('B', 'E', 'D')), ('C', 'D', 'B'), ('C', 'D', ('B', 'A')), ('C', 'D', ('B', 'E')), ('C', 'D', ('A', 'E')), ('C', 'D', ('B', 'A', 'E'))]\n"
     ]
    }
   ],
   "source": [
    "print(todos_cond_indeps(grafo))"
   ]
  }
 ],
 "metadata": {
  "kernelspec": {
   "display_name": "Python 3",
   "language": "python",
   "name": "python3"
  },
  "language_info": {
   "codemirror_mode": {
    "name": "ipython",
    "version": 3
   },
   "file_extension": ".py",
   "mimetype": "text/x-python",
   "name": "python",
   "nbconvert_exporter": "python",
   "pygments_lexer": "ipython3",
   "version": "3.8.5"
  }
 },
 "nbformat": 4,
 "nbformat_minor": 4
}
