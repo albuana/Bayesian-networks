{
 "cells": [
  {
   "cell_type": "code",
   "execution_count": 187,
   "metadata": {},
   "outputs": [],
   "source": [
    "from probabilityPlus import *\n",
    "from prettytable import *\n",
    "from agents import *\n",
    "from ipythonblocks import *\n",
    "from utils import *"
   ]
  },
  {
   "cell_type": "code",
   "execution_count": 238,
   "metadata": {},
   "outputs": [],
   "source": [
    "T, F = True, False\n",
    "burglary = BayesNet([\n",
    "    ('Burglary', '', 0.001),\n",
    "    ('Earthquake', '', 0.002),\n",
    "    ('Alarm', 'Burglary Earthquake',\n",
    "     {(T, T): 0.95, (T, F): 0.94, (F, T): 0.29, (F, F): 0.001}),\n",
    "    ('JohnCalls', 'Alarm', {T: 0.90, F: 0.05}),\n",
    "    ('MaryCalls', 'Alarm', {T: 0.70, F: 0.01})\n",
    "    ])\n"
   ]
  },
  {
   "cell_type": "code",
   "execution_count": 239,
   "metadata": {},
   "outputs": [],
   "source": [
    "E = ['Alarm', 'Earthquake', 'Burglary']"
   ]
  },
  {
   "cell_type": "code",
   "execution_count": 240,
   "metadata": {},
   "outputs": [],
   "source": [
    "def desc_rec(front,exps,rede):\n",
    "    if not front:\n",
    "        return exps[1:]\n",
    "    else:\n",
    "        first=front[0]\n",
    "        del front[0]\n",
    "        filhos=rede.variable_node(first).children\n",
    "        new = [f for f in filhos if f not in exps]\n",
    "        front += new\n",
    "        exps+=new\n",
    "        return desc_rec(front,exps,rede)\n",
    "\n",
    "def descendentes(var,rede):\n",
    "    return desc_rec([var],[var],rede)"
   ]
  },
  {
   "cell_type": "code",
   "execution_count": 241,
   "metadata": {},
   "outputs": [
    {
     "data": {
      "text/plain": [
       "['Alarm', 'JohnCalls', 'MaryCalls']"
      ]
     },
     "execution_count": 241,
     "metadata": {},
     "output_type": "execute_result"
    }
   ],
   "source": [
    "descendentes('Burglary',burglary)"
   ]
  },
  {
   "cell_type": "code",
   "execution_count": 242,
   "metadata": {},
   "outputs": [
    {
     "data": {
      "text/plain": [
       "['Alarm', 'JohnCalls', 'MaryCalls']"
      ]
     },
     "execution_count": 242,
     "metadata": {},
     "output_type": "execute_result"
    }
   ],
   "source": [
    "descendentes('Earthquake',burglary)\n"
   ]
  },
  {
   "cell_type": "code",
   "execution_count": 243,
   "metadata": {},
   "outputs": [
    {
     "data": {
      "text/plain": [
       "['JohnCalls', 'MaryCalls']"
      ]
     },
     "execution_count": 243,
     "metadata": {},
     "output_type": "execute_result"
    }
   ],
   "source": [
    "descendentes('Alarm',burglary)\n"
   ]
  },
  {
   "cell_type": "code",
   "execution_count": 244,
   "metadata": {},
   "outputs": [
    {
     "data": {
      "text/plain": [
       "[]"
      ]
     },
     "execution_count": 244,
     "metadata": {},
     "output_type": "execute_result"
    }
   ],
   "source": [
    "descendentes('JohnCalls',burglary)"
   ]
  },
  {
   "cell_type": "code",
   "execution_count": 245,
   "metadata": {},
   "outputs": [
    {
     "data": {
      "text/plain": [
       "[]"
      ]
     },
     "execution_count": 245,
     "metadata": {},
     "output_type": "execute_result"
    }
   ],
   "source": [
    "descendentes('MaryCalls',burglary)"
   ]
  },
  {
   "cell_type": "markdown",
   "metadata": {},
   "source": [
    "### Para X ser condicionalmente independente de Y:\n",
    "\n",
    "- Y não pode ser descendente de X\n",
    "\n",
    "- X não pode ser descendente de Y\n",
    "\n",
    "- Nem X nem Y podem estar nem em E "
   ]
  },
  {
   "cell_type": "code",
   "execution_count": 336,
   "metadata": {},
   "outputs": [],
   "source": [
    "def cond_indep(X,Y,E,R):\n",
    "    if Y in descendentes(X,R) or X in descendentes(Y,R) or Y in E or X in E:\n",
    "        return False\n",
    "    return True\n",
    "\n",
    "def cond_indep_explica(X,Y,E,R):   \n",
    "    #print(\"Para que X seja independente de Y dado E:\")\n",
    "    #print(\"• Y não pode ser descendente de X\\n• X não pode ser descendente de Y\\n• Nem X nem Y podem estar nem em E\\n\")\n",
    "    print(\"E =\",E)\n",
    "    print(\"X =\",X)\n",
    "    print(\"Y =\",Y)\n",
    "    explicacao = \"Por isso, X e Y não são condicionalmente independentes.\"\n",
    "    if Y in descendentes(X,R):\n",
    "        return (False,'Y é descendente de X. ' + explicacao)\n",
    "    if X in descendentes(Y,R):\n",
    "        return (False, 'X é descendente de Y. ' + explicacao)\n",
    "    if Y in E:\n",
    "        return (False, 'E contém Y. ' + explicacao)\n",
    "    if X in E:\n",
    "        return (False, 'E contém X. ' + explicacao)\n",
    "    return (True, 'X e Y são condicionalmente independentes.')\n",
    "\n",
    "def todos_cond_indeps(r):\n",
    "    out=[]\n",
    "    rVariables=set(r.variables)\n",
    "    conjuntosE=itertools.combinations(iterable, r.variables)\n",
    "    for x in rVariables:\n",
    "        for y in rVariables:\n",
    "            for e in conjuntosE:\n",
    "                i=cond_indep({x},{y}, e,r)\n",
    "                if i==True:\n",
    "                    out.append({x},{y},e)\n",
    "    return out"
   ]
  },
  {
   "cell_type": "code",
   "execution_count": 337,
   "metadata": {},
   "outputs": [
    {
     "name": "stdout",
     "output_type": "stream",
     "text": [
      "E = Earthquake\n",
      "X = Burglary\n",
      "Y = Alarm\n",
      "(False, 'Y é descendente de X. Por isso, X e Y não são condicionalmente independentes.')\n"
     ]
    }
   ],
   "source": [
    "print(cond_indep_explica('Burglary', 'Alarm', 'Earthquake', burglary))"
   ]
  },
  {
   "cell_type": "code",
   "execution_count": 338,
   "metadata": {},
   "outputs": [
    {
     "name": "stdout",
     "output_type": "stream",
     "text": [
      "E = Earthquake\n",
      "X = JohnCalls\n",
      "Y = Alarm\n",
      "(False, 'X é descendente de Y. Por isso, X e Y não são condicionalmente independentes.')\n"
     ]
    }
   ],
   "source": [
    "print(cond_indep_explica('JohnCalls', 'Alarm', 'Earthquake', burglary))"
   ]
  },
  {
   "cell_type": "code",
   "execution_count": 339,
   "metadata": {},
   "outputs": [],
   "source": [
    "#testar os caso dos 2\n"
   ]
  },
  {
   "cell_type": "code",
   "execution_count": 340,
   "metadata": {},
   "outputs": [
    {
     "name": "stdout",
     "output_type": "stream",
     "text": [
      "E = ['Alarm', 'Earthquake', 'Burglary']\n",
      "X = Burglary\n",
      "Y = Earthquake\n",
      "(False, 'E contém Y. Por isso, X e Y não são condicionalmente independentes.')\n"
     ]
    }
   ],
   "source": [
    "print(cond_indep_explica('Burglary', 'Earthquake', E, burglary))"
   ]
  },
  {
   "cell_type": "code",
   "execution_count": 341,
   "metadata": {},
   "outputs": [
    {
     "name": "stdout",
     "output_type": "stream",
     "text": [
      "E = Alarm\n",
      "X = Burglary\n",
      "Y = Earthquake\n",
      "(True, 'X e Y são condicionalmente independentes.')\n"
     ]
    }
   ],
   "source": [
    "print(cond_indep_explica('Burglary', 'Earthquake', 'Alarm', burglary))"
   ]
  },
  {
   "cell_type": "code",
   "execution_count": 342,
   "metadata": {},
   "outputs": [
    {
     "name": "stdout",
     "output_type": "stream",
     "text": [
      "\n",
      "Burglary é independente de Alarm? dado pais(Burglary)?\n",
      " False\n"
     ]
    }
   ],
   "source": [
    "print(\"\\nBurglary é independente de Alarm? dado pais(Burglary)?\\n\",cond_indep('Burglary', 'Alarm', 'Earthquake', burglary))"
   ]
  },
  {
   "cell_type": "code",
   "execution_count": 324,
   "metadata": {},
   "outputs": [
    {
     "name": "stdout",
     "output_type": "stream",
     "text": [
      "\n",
      "Burglary é independente de Earthquake? dado E?\n",
      " True\n"
     ]
    }
   ],
   "source": [
    "print(\"\\nBurglary é independente de Earthquake? dado E?\\n\",cond_indep('Burglary', 'Earthquake', 'Alarm', burglary))\n"
   ]
  },
  {
   "cell_type": "code",
   "execution_count": 325,
   "metadata": {},
   "outputs": [],
   "source": [
    "def display_cpt(node):\n",
    "    header='P(' + node.variables[2] + '|' + ','.join(node.nodes[2].parents) + '):'\n",
    "    #print(R)\n",
    "    print(node.nodes[2], \"\\n\")\n",
    "    print(node.variables[2],\"\\n\")\n",
    "    print(node.nodes[2].parents,\"\\n\")\n",
    "    print(header,\"\\n\")\n",
    "    pretty=PrettyTable()\n",
    "    aux = node.nodes[2].parents.copy()\n",
    "    aux.append(node.variables[2])\n",
    "    pretty.field_names = aux \n",
    "    #print(pretty.field_names)  # Caso Booleano #\n",
    "    for i in list(node.nodes[2].cpt.keys()):\n",
    "        #print(i)\n",
    "        pretty.add_row(i+('True:'+str(node.nodes[2].cpt[i]),))\n",
    "        pretty.add_row(i+('False:'+str(1.0-node.nodes[2].cpt[i]),))\n",
    "    print(pretty)"
   ]
  },
  {
   "cell_type": "code",
   "execution_count": 68,
   "metadata": {},
   "outputs": [
    {
     "name": "stdout",
     "output_type": "stream",
     "text": [
      "('Alarm', 'Burglary Earthquake') \n",
      "\n",
      "Alarm \n",
      "\n",
      "['Burglary', 'Earthquake'] \n",
      "\n",
      "P(Alarm|Burglary,Earthquake): \n",
      "\n",
      "+----------+------------+----------------------------+\n",
      "| Burglary | Earthquake |           Alarm            |\n",
      "+----------+------------+----------------------------+\n",
      "|   True   |    True    |         True:0.95          |\n",
      "|   True   |    True    | False:0.050000000000000044 |\n",
      "|   True   |   False    |         True:0.94          |\n",
      "|   True   |   False    | False:0.06000000000000005  |\n",
      "|  False   |    True    |         True:0.29          |\n",
      "|  False   |    True    |         False:0.71         |\n",
      "|  False   |   False    |         True:0.001         |\n",
      "|  False   |   False    |        False:0.999         |\n",
      "+----------+------------+----------------------------+\n"
     ]
    }
   ],
   "source": [
    "display_cpt(burglary)"
   ]
  },
  {
   "cell_type": "code",
   "execution_count": 44,
   "metadata": {},
   "outputs": [
    {
     "name": "stdout",
     "output_type": "stream",
     "text": [
      "('Alarm', 'Burglary Earthquake') \n",
      "\n",
      "Alarm \n",
      "\n",
      "['Burglary', 'Earthquake'] \n",
      "\n",
      "P(Alarm|Burglary,Earthquake): \n",
      "\n",
      "+----------+------------+----------------------------+\n",
      "| Burglary | Earthquake |           Alarm            |\n",
      "+----------+------------+----------------------------+\n",
      "|   True   |    True    |         True:0.95          |\n",
      "|   True   |    True    | False:0.050000000000000044 |\n",
      "|   True   |   False    |         True:0.94          |\n",
      "|   True   |   False    | False:0.06000000000000005  |\n",
      "|  False   |    True    |         True:0.29          |\n",
      "|  False   |    True    |         False:0.71         |\n",
      "|  False   |   False    |         True:0.001         |\n",
      "|  False   |   False    |        False:0.999         |\n",
      "+----------+------------+----------------------------+\n",
      "['Burglary', 'Earthquake'] -->  Alarm -->  ['JohnCalls', 'MaryCalls']\n"
     ]
    },
    {
     "data": {
      "text/plain": [
       "(['Burglary', 'Earthquake'], 'Alarm', ['JohnCalls', 'MaryCalls'])"
      ]
     },
     "execution_count": 44,
     "metadata": {},
     "output_type": "execute_result"
    }
   ],
   "source": [
    "i = 2\n",
    "def linkedTo(n):\n",
    "    pais = n.nodes[i].parents\n",
    "    filhos = n.nodes[i].children\n",
    "    display_cpt(n)\n",
    "    print( pais , \"--> \",n.variables[i] , \"--> \", filhos)\n",
    "    return ( pais, n.variables[i], filhos)\n",
    "    # return (n.parents,n.variable,n.children)\n",
    "linkedTo(burglary)"
   ]
  },
  {
   "cell_type": "code",
   "execution_count": null,
   "metadata": {},
   "outputs": [],
   "source": []
  },
  {
   "cell_type": "code",
   "execution_count": null,
   "metadata": {},
   "outputs": [],
   "source": []
  }
 ],
 "metadata": {
  "kernelspec": {
   "display_name": "Python 3",
   "language": "python",
   "name": "python3"
  },
  "language_info": {
   "codemirror_mode": {
    "name": "ipython",
    "version": 3
   },
   "file_extension": ".py",
   "mimetype": "text/x-python",
   "name": "python",
   "nbconvert_exporter": "python",
   "pygments_lexer": "ipython3",
   "version": "3.8.5"
  }
 },
 "nbformat": 4,
 "nbformat_minor": 4
}
