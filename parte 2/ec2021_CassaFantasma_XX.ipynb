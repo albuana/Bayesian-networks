{
 "cells": [
  {
   "cell_type": "markdown",
   "metadata": {},
   "source": [
    "# Report do Projeto nº2: Engenharia de Conhecimento 20/21\n",
    "\n",
    "## O Caça-Fantasmas \n",
    "\n",
    "\n",
    "<img src=\"files/imagens/cacaFantasmas.jpg\" alt=\"Drawing\" style=\"width: 200px;\"/> "
   ]
  },
  {
   "cell_type": "markdown",
   "metadata": {},
   "source": [
    "### Grupo XX\n",
    "\n",
    "    -- Número XXX: João Pedro Miguel Silva Silva Silva\n",
    "    -- Número XXX: João Pedro Miguel Silva Silva\n",
    "    -- Número XXX: João Pedro Miguel Silva"
   ]
  },
  {
   "cell_type": "markdown",
   "metadata": {},
   "source": [
    "### Introdução\n",
    "\n",
    "Aqui devem fazer um resumo do que fizeram, se fizeram tudo o que foi pedido, ou se alguma coisa ficou incompleta, e se fizeram alguma coisa extra..."
   ]
  },
  {
   "cell_type": "markdown",
   "metadata": {},
   "source": [
    "### Redes de Bayes Genéricas\n",
    "Nesta parte devem:\n",
    "\n"
   ]
  },
  {
   "cell_type": "markdown",
   "metadata": {},
   "source": [
    "#### 1. Adaptação das classes para as Redes de Bayes binárias\n",
    "Descrever alguma coisa sobre como adaptaram as classes que existiam para as redes binárias;\n"
   ]
  },
  {
   "cell_type": "markdown",
   "metadata": {},
   "source": [
    "#### 2. Testes de construção das novas classes\n",
    "Fazerem todos os testes que demonstram que o código permite criar correctamente exemplos de redes de Bayes, Terão que demonstrar para as redes pedidas no enunciado e mais alguma que desejem. Uma rede por célula, não acumulem muita coisa numa célula Python. Usem o Python notebook como um notebook.\n",
    "Pelo menos para uma das redes devem mostrar as variáveis e respectivos domínios bem como uma ou duas das cpts (convém mostrar as que envolvem variáveis com domínios não booleanos) e por exemplo um valor de probabilidade condicional lido de uma das cpts."
   ]
  },
  {
   "cell_type": "markdown",
   "metadata": {},
   "source": [
    "#### 3. Testes de inferência\n",
    "Fazerem testes que mostram que os métodos associados à rede de Bayes continuam a funcionar correctamente: ler probabilidades conjuntas particulares (afectação de todas as variáveis), cálculo da conjunta completa e um ou dois exemplos do uso da função`enumeration_ask`."
   ]
  },
  {
   "cell_type": "markdown",
   "metadata": {},
   "source": [
    "### Cassa Fantasma\n",
    "Nesta parte devem mostrar que cada uma das funções pedidas está a funcionar bem, mostrando demonstrações (testes) de execução de cada uma delas. Se essas funções usarem sub-funções relevantes para o report devem também descrevê-las e ilustrar que estão a brilhar."
   ]
  },
  {
   "cell_type": "markdown",
   "metadata": {},
   "source": [
    "#### 1. A função cassa_fantasma()\n"
   ]
  },
  {
   "cell_type": "markdown",
   "metadata": {},
   "source": [
    "#### 2. A função cassando_o_fantasma()\n"
   ]
  },
  {
   "cell_type": "markdown",
   "metadata": {},
   "source": [
    "#### 3. A função tiro_no_fantasma()\n"
   ]
  },
  {
   "cell_type": "markdown",
   "metadata": {},
   "source": [
    "#### 4. A função observa_casa()\n",
    "\n"
   ]
  },
  {
   "cell_type": "markdown",
   "metadata": {},
   "source": [
    "#### 5. A função taxa_sucessos()"
   ]
  },
  {
   "cell_type": "markdown",
   "metadata": {},
   "source": [
    "#### Tabela com os resultados para jogos para diferentes dimensões e número de observações\n",
    "Devem ilustrar com uma tabela os resultados das experiências que fizeram para diferentes dimensões do espaço e para os diferentes números de observações."
   ]
  }
 ],
 "metadata": {
  "kernelspec": {
   "display_name": "Python 3",
   "language": "python",
   "name": "python3"
  },
  "language_info": {
   "codemirror_mode": {
    "name": "ipython",
    "version": 3
   },
   "file_extension": ".py",
   "mimetype": "text/x-python",
   "name": "python",
   "nbconvert_exporter": "python",
   "pygments_lexer": "ipython3",
   "version": "3.7.0"
  }
 },
 "nbformat": 4,
 "nbformat_minor": 2
}
